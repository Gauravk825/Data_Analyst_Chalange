{
 "cells": [
  {
   "cell_type": "code",
   "execution_count": 52,
   "metadata": {},
   "outputs": [],
   "source": [
    "import pandas as pd\n",
    "import numpy as np\n",
    "import warnings\n",
    "warnings.filterwarnings('ignore')"
   ]
  },
  {
   "cell_type": "code",
   "execution_count": 53,
   "metadata": {},
   "outputs": [],
   "source": [
    "df = pd.read_excel ('My_calculation_result.xlsx')"
   ]
  },
  {
   "cell_type": "code",
   "execution_count": 54,
   "metadata": {},
   "outputs": [
    {
     "name": "stdout",
     "output_type": "stream",
     "text": [
      "<class 'pandas.core.frame.DataFrame'>\n",
      "RangeIndex: 124 entries, 0 to 123\n",
      "Data columns (total 11 columns):\n",
      " #   Column                                                        Non-Null Count  Dtype  \n",
      "---  ------                                                        --------------  -----  \n",
      " 0   Order ID                                                      124 non-null    int64  \n",
      " 1   AWB Code                                                      124 non-null    int64  \n",
      " 2   Total weight as per X (KG)                                    124 non-null    float64\n",
      " 3   Weight slab as per X (KG)                                     124 non-null    float64\n",
      " 4   Total weight as per Courier Company (KG)                      124 non-null    float64\n",
      " 5   Weight slab charged by Courier Company (KG)                   124 non-null    float64\n",
      " 6   Delivery Zone as per X                                        124 non-null    object \n",
      " 7   Delivery Zone charged by Courier Compay                       124 non-null    object \n",
      " 8   Expected Charge as per X (Rs.)                                124 non-null    float64\n",
      " 9   Charges Billed by Courier Company (Rs.)                       124 non-null    float64\n",
      " 10  Difference Between Expected Charges and Billed Charges (Rs.)  124 non-null    float64\n",
      "dtypes: float64(7), int64(2), object(2)\n",
      "memory usage: 10.8+ KB\n"
     ]
    }
   ],
   "source": [
    "df.info()"
   ]
  },
  {
   "cell_type": "markdown",
   "metadata": {},
   "source": [
    "Here I write a code for find the total correctly charged delivery and count."
   ]
  },
  {
   "cell_type": "code",
   "execution_count": 55,
   "metadata": {},
   "outputs": [],
   "source": [
    "total_invoice_amount = 0\n",
    "count_for_correctly_charged = 0\n",
    "for i in range(len(df)):\n",
    "    if df[\"Difference Between Expected Charges and Billed Charges (Rs.)\"][i] == 0:\n",
    "        total_invoice_amount = round((total_invoice_amount + df[\"Charges Billed by Courier Company (Rs.)\"][i]),1)\n",
    "        count_for_correctly_charged = count_for_correctly_charged + 1"
   ]
  },
  {
   "cell_type": "code",
   "execution_count": 56,
   "metadata": {},
   "outputs": [
    {
     "name": "stdout",
     "output_type": "stream",
     "text": [
      "Total Invoice Amount: 2096.3\n",
      "Number of correctly charged delivery: 23\n"
     ]
    }
   ],
   "source": [
    "print('Total Invoice Amount:',total_invoice_amount)\n",
    "print('Number of correctly charged delivery:',count_for_correctly_charged)"
   ]
  },
  {
   "cell_type": "markdown",
   "metadata": {},
   "source": [
    "Here I write a code for find the amount for overcharged delivery and count."
   ]
  },
  {
   "cell_type": "code",
   "execution_count": 57,
   "metadata": {},
   "outputs": [],
   "source": [
    "overcharged_amount = 0\n",
    "count_for_overcharged = 0\n",
    "for i in range(len(df)):\n",
    "    if df[\"Charges Billed by Courier Company (Rs.)\"][i] > df[\"Expected Charge as per X (Rs.)\"][i]:\n",
    "        overcharged_amount = round((overcharged_amount + df[\"Difference Between Expected Charges and Billed Charges (Rs.)\"][i]),1)\n",
    "        count_for_overcharged = count_for_overcharged + 1\n",
    "                                                             "
   ]
  },
  {
   "cell_type": "code",
   "execution_count": 58,
   "metadata": {},
   "outputs": [
    {
     "name": "stdout",
     "output_type": "stream",
     "text": [
      "Total overcharged Amount: -4426.6\n",
      "Number of overcharged charged delivery: 79\n"
     ]
    }
   ],
   "source": [
    "print('Total overcharged Amount:',overcharged_amount)\n",
    "print('Number of overcharged charged delivery:',count_for_overcharged)"
   ]
  },
  {
   "cell_type": "markdown",
   "metadata": {},
   "source": [
    "Here I write a code for find the amount for undercharged delivery and count."
   ]
  },
  {
   "cell_type": "code",
   "execution_count": 59,
   "metadata": {},
   "outputs": [],
   "source": [
    "undercharged_amount = 0\n",
    "count_for_undercharged = 0\n",
    "for i in range(len(df)):\n",
    "    if df[\"Charges Billed by Courier Company (Rs.)\"][i] < df[\"Expected Charge as per X (Rs.)\"][i]:\n",
    "        undercharged_amount = round((undercharged_amount + df[\"Difference Between Expected Charges and Billed Charges (Rs.)\"][i]),1)\n",
    "        count_for_undercharged = count_for_undercharged + 1"
   ]
  },
  {
   "cell_type": "code",
   "execution_count": 60,
   "metadata": {
    "scrolled": true
   },
   "outputs": [
    {
     "name": "stdout",
     "output_type": "stream",
     "text": [
      "Total underharged Amount: 585.8\n",
      "Number of undercharged charged delivery: 22\n"
     ]
    }
   ],
   "source": [
    "print('Total underharged Amount:',undercharged_amount)\n",
    "print('Number of undercharged charged delivery:',count_for_undercharged)"
   ]
  },
  {
   "cell_type": "markdown",
   "metadata": {},
   "source": [
    "Here I created a data frame in which summry has to stored."
   ]
  },
  {
   "cell_type": "code",
   "execution_count": 50,
   "metadata": {},
   "outputs": [],
   "source": [
    "data = {'Count':[count_for_correctly_charged, count_for_overcharged, count_for_undercharged],\n",
    "        'Amount (Rs.)':[total_invoice_amount, overcharged_amount, undercharged_amount]}\n",
    "  \n",
    "# Creates pandas DataFrame.\n",
    "df2 = pd.DataFrame(data, index =['Total orders where X has been correctly charged',\n",
    "                                'Total Orders where X has been overcharged',\n",
    "                                'Total Orders where X has been undercharged'])"
   ]
  },
  {
   "cell_type": "code",
   "execution_count": 61,
   "metadata": {},
   "outputs": [
    {
     "data": {
      "text/html": [
       "<div>\n",
       "<style scoped>\n",
       "    .dataframe tbody tr th:only-of-type {\n",
       "        vertical-align: middle;\n",
       "    }\n",
       "\n",
       "    .dataframe tbody tr th {\n",
       "        vertical-align: top;\n",
       "    }\n",
       "\n",
       "    .dataframe thead th {\n",
       "        text-align: right;\n",
       "    }\n",
       "</style>\n",
       "<table border=\"1\" class=\"dataframe\">\n",
       "  <thead>\n",
       "    <tr style=\"text-align: right;\">\n",
       "      <th></th>\n",
       "      <th>Count</th>\n",
       "      <th>Amount (Rs.)</th>\n",
       "    </tr>\n",
       "  </thead>\n",
       "  <tbody>\n",
       "    <tr>\n",
       "      <th>Total orders where X has been correctly charged</th>\n",
       "      <td>23</td>\n",
       "      <td>2096.3</td>\n",
       "    </tr>\n",
       "    <tr>\n",
       "      <th>Total Orders where X has been overcharged</th>\n",
       "      <td>79</td>\n",
       "      <td>-4426.6</td>\n",
       "    </tr>\n",
       "    <tr>\n",
       "      <th>Total Orders where X has been undercharged</th>\n",
       "      <td>22</td>\n",
       "      <td>585.8</td>\n",
       "    </tr>\n",
       "  </tbody>\n",
       "</table>\n",
       "</div>"
      ],
      "text/plain": [
       "                                                 Count  Amount (Rs.)\n",
       "Total orders where X has been correctly charged     23        2096.3\n",
       "Total Orders where X has been overcharged           79       -4426.6\n",
       "Total Orders where X has been undercharged          22         585.8"
      ]
     },
     "execution_count": 61,
     "metadata": {},
     "output_type": "execute_result"
    }
   ],
   "source": [
    "df2"
   ]
  },
  {
   "cell_type": "markdown",
   "metadata": {},
   "source": [
    "Here I save my df2 dataframe into excle name as \"My_Summary_result\"."
   ]
  },
  {
   "cell_type": "code",
   "execution_count": 64,
   "metadata": {},
   "outputs": [],
   "source": [
    "#df2.to_excel(\"My_Summary_result.xlsx\", index=True)"
   ]
  },
  {
   "cell_type": "code",
   "execution_count": null,
   "metadata": {},
   "outputs": [],
   "source": []
  },
  {
   "cell_type": "code",
   "execution_count": 66,
   "metadata": {},
   "outputs": [
    {
     "data": {
      "text/html": [
       "<div>\n",
       "<style scoped>\n",
       "    .dataframe tbody tr th:only-of-type {\n",
       "        vertical-align: middle;\n",
       "    }\n",
       "\n",
       "    .dataframe tbody tr th {\n",
       "        vertical-align: top;\n",
       "    }\n",
       "\n",
       "    .dataframe thead th {\n",
       "        text-align: right;\n",
       "    }\n",
       "</style>\n",
       "<table border=\"1\" class=\"dataframe\">\n",
       "  <thead>\n",
       "    <tr style=\"text-align: right;\">\n",
       "      <th></th>\n",
       "      <th>Order ID</th>\n",
       "      <th>AWB Code</th>\n",
       "      <th>Total weight as per X (KG)</th>\n",
       "      <th>Weight slab as per X (KG)</th>\n",
       "      <th>Total weight as per Courier Company (KG)</th>\n",
       "      <th>Weight slab charged by Courier Company (KG)</th>\n",
       "      <th>Delivery Zone as per X</th>\n",
       "      <th>Delivery Zone charged by Courier Compay</th>\n",
       "      <th>Expected Charge as per X (Rs.)</th>\n",
       "      <th>Charges Billed by Courier Company (Rs.)</th>\n",
       "      <th>Difference Between Expected Charges and Billed Charges (Rs.)</th>\n",
       "    </tr>\n",
       "  </thead>\n",
       "  <tbody>\n",
       "    <tr>\n",
       "      <th>0</th>\n",
       "      <td>2001806210</td>\n",
       "      <td>1091117221940</td>\n",
       "      <td>0.220</td>\n",
       "      <td>0.5</td>\n",
       "      <td>2.92</td>\n",
       "      <td>3.0</td>\n",
       "      <td>b</td>\n",
       "      <td>b</td>\n",
       "      <td>33.0</td>\n",
       "      <td>174.5</td>\n",
       "      <td>-141.5</td>\n",
       "    </tr>\n",
       "    <tr>\n",
       "      <th>1</th>\n",
       "      <td>2001806226</td>\n",
       "      <td>1091117222065</td>\n",
       "      <td>0.480</td>\n",
       "      <td>0.5</td>\n",
       "      <td>0.68</td>\n",
       "      <td>1.0</td>\n",
       "      <td>d</td>\n",
       "      <td>d</td>\n",
       "      <td>45.4</td>\n",
       "      <td>90.2</td>\n",
       "      <td>-44.8</td>\n",
       "    </tr>\n",
       "    <tr>\n",
       "      <th>2</th>\n",
       "      <td>2001806229</td>\n",
       "      <td>1091117222080</td>\n",
       "      <td>0.500</td>\n",
       "      <td>0.5</td>\n",
       "      <td>0.71</td>\n",
       "      <td>1.0</td>\n",
       "      <td>d</td>\n",
       "      <td>d</td>\n",
       "      <td>45.4</td>\n",
       "      <td>90.2</td>\n",
       "      <td>-44.8</td>\n",
       "    </tr>\n",
       "    <tr>\n",
       "      <th>3</th>\n",
       "      <td>2001806232</td>\n",
       "      <td>1091117222124</td>\n",
       "      <td>1.302</td>\n",
       "      <td>1.5</td>\n",
       "      <td>1.30</td>\n",
       "      <td>1.5</td>\n",
       "      <td>d</td>\n",
       "      <td>d</td>\n",
       "      <td>135.0</td>\n",
       "      <td>135.0</td>\n",
       "      <td>0.0</td>\n",
       "    </tr>\n",
       "    <tr>\n",
       "      <th>4</th>\n",
       "      <td>2001806233</td>\n",
       "      <td>1091117222135</td>\n",
       "      <td>0.245</td>\n",
       "      <td>0.5</td>\n",
       "      <td>0.78</td>\n",
       "      <td>1.0</td>\n",
       "      <td>b</td>\n",
       "      <td>b</td>\n",
       "      <td>33.0</td>\n",
       "      <td>61.3</td>\n",
       "      <td>-28.3</td>\n",
       "    </tr>\n",
       "    <tr>\n",
       "      <th>...</th>\n",
       "      <td>...</td>\n",
       "      <td>...</td>\n",
       "      <td>...</td>\n",
       "      <td>...</td>\n",
       "      <td>...</td>\n",
       "      <td>...</td>\n",
       "      <td>...</td>\n",
       "      <td>...</td>\n",
       "      <td>...</td>\n",
       "      <td>...</td>\n",
       "      <td>...</td>\n",
       "    </tr>\n",
       "    <tr>\n",
       "      <th>119</th>\n",
       "      <td>2001821995</td>\n",
       "      <td>1091121183730</td>\n",
       "      <td>0.477</td>\n",
       "      <td>0.5</td>\n",
       "      <td>0.50</td>\n",
       "      <td>0.5</td>\n",
       "      <td>b</td>\n",
       "      <td>d</td>\n",
       "      <td>33.0</td>\n",
       "      <td>45.4</td>\n",
       "      <td>-12.4</td>\n",
       "    </tr>\n",
       "    <tr>\n",
       "      <th>120</th>\n",
       "      <td>2001822466</td>\n",
       "      <td>1091121305541</td>\n",
       "      <td>1.376</td>\n",
       "      <td>1.5</td>\n",
       "      <td>1.10</td>\n",
       "      <td>1.5</td>\n",
       "      <td>b</td>\n",
       "      <td>d</td>\n",
       "      <td>89.6</td>\n",
       "      <td>135.0</td>\n",
       "      <td>-45.4</td>\n",
       "    </tr>\n",
       "    <tr>\n",
       "      <th>121</th>\n",
       "      <td>2001823564</td>\n",
       "      <td>1091121666133</td>\n",
       "      <td>0.672</td>\n",
       "      <td>1.0</td>\n",
       "      <td>0.70</td>\n",
       "      <td>1.0</td>\n",
       "      <td>d</td>\n",
       "      <td>d</td>\n",
       "      <td>176.3</td>\n",
       "      <td>172.8</td>\n",
       "      <td>3.5</td>\n",
       "    </tr>\n",
       "    <tr>\n",
       "      <th>122</th>\n",
       "      <td>2001825261</td>\n",
       "      <td>1091121981575</td>\n",
       "      <td>1.557</td>\n",
       "      <td>2.0</td>\n",
       "      <td>1.60</td>\n",
       "      <td>2.0</td>\n",
       "      <td>d</td>\n",
       "      <td>d</td>\n",
       "      <td>355.5</td>\n",
       "      <td>345.0</td>\n",
       "      <td>10.5</td>\n",
       "    </tr>\n",
       "    <tr>\n",
       "      <th>123</th>\n",
       "      <td>2001827036</td>\n",
       "      <td>1091122418320</td>\n",
       "      <td>2.176</td>\n",
       "      <td>2.5</td>\n",
       "      <td>1.60</td>\n",
       "      <td>2.0</td>\n",
       "      <td>e</td>\n",
       "      <td>b</td>\n",
       "      <td>278.6</td>\n",
       "      <td>117.9</td>\n",
       "      <td>160.7</td>\n",
       "    </tr>\n",
       "  </tbody>\n",
       "</table>\n",
       "<p>124 rows × 11 columns</p>\n",
       "</div>"
      ],
      "text/plain": [
       "       Order ID       AWB Code  Total weight as per X (KG)  \\\n",
       "0    2001806210  1091117221940                       0.220   \n",
       "1    2001806226  1091117222065                       0.480   \n",
       "2    2001806229  1091117222080                       0.500   \n",
       "3    2001806232  1091117222124                       1.302   \n",
       "4    2001806233  1091117222135                       0.245   \n",
       "..          ...            ...                         ...   \n",
       "119  2001821995  1091121183730                       0.477   \n",
       "120  2001822466  1091121305541                       1.376   \n",
       "121  2001823564  1091121666133                       0.672   \n",
       "122  2001825261  1091121981575                       1.557   \n",
       "123  2001827036  1091122418320                       2.176   \n",
       "\n",
       "     Weight slab as per X (KG)  Total weight as per Courier Company (KG)  \\\n",
       "0                          0.5                                      2.92   \n",
       "1                          0.5                                      0.68   \n",
       "2                          0.5                                      0.71   \n",
       "3                          1.5                                      1.30   \n",
       "4                          0.5                                      0.78   \n",
       "..                         ...                                       ...   \n",
       "119                        0.5                                      0.50   \n",
       "120                        1.5                                      1.10   \n",
       "121                        1.0                                      0.70   \n",
       "122                        2.0                                      1.60   \n",
       "123                        2.5                                      1.60   \n",
       "\n",
       "     Weight slab charged by Courier Company (KG) Delivery Zone as per X  \\\n",
       "0                                            3.0                      b   \n",
       "1                                            1.0                      d   \n",
       "2                                            1.0                      d   \n",
       "3                                            1.5                      d   \n",
       "4                                            1.0                      b   \n",
       "..                                           ...                    ...   \n",
       "119                                          0.5                      b   \n",
       "120                                          1.5                      b   \n",
       "121                                          1.0                      d   \n",
       "122                                          2.0                      d   \n",
       "123                                          2.0                      e   \n",
       "\n",
       "    Delivery Zone charged by Courier Compay  Expected Charge as per X (Rs.)  \\\n",
       "0                                         b                            33.0   \n",
       "1                                         d                            45.4   \n",
       "2                                         d                            45.4   \n",
       "3                                         d                           135.0   \n",
       "4                                         b                            33.0   \n",
       "..                                      ...                             ...   \n",
       "119                                       d                            33.0   \n",
       "120                                       d                            89.6   \n",
       "121                                       d                           176.3   \n",
       "122                                       d                           355.5   \n",
       "123                                       b                           278.6   \n",
       "\n",
       "     Charges Billed by Courier Company (Rs.)  \\\n",
       "0                                      174.5   \n",
       "1                                       90.2   \n",
       "2                                       90.2   \n",
       "3                                      135.0   \n",
       "4                                       61.3   \n",
       "..                                       ...   \n",
       "119                                     45.4   \n",
       "120                                    135.0   \n",
       "121                                    172.8   \n",
       "122                                    345.0   \n",
       "123                                    117.9   \n",
       "\n",
       "     Difference Between Expected Charges and Billed Charges (Rs.)  \n",
       "0                                               -141.5             \n",
       "1                                                -44.8             \n",
       "2                                                -44.8             \n",
       "3                                                  0.0             \n",
       "4                                                -28.3             \n",
       "..                                                 ...             \n",
       "119                                              -12.4             \n",
       "120                                              -45.4             \n",
       "121                                                3.5             \n",
       "122                                               10.5             \n",
       "123                                              160.7             \n",
       "\n",
       "[124 rows x 11 columns]"
      ]
     },
     "execution_count": 66,
     "metadata": {},
     "output_type": "execute_result"
    }
   ],
   "source": [
    "df"
   ]
  },
  {
   "cell_type": "markdown",
   "metadata": {},
   "source": []
  },
  {
   "cell_type": "code",
   "execution_count": 89,
   "metadata": {},
   "outputs": [
    {
     "data": {
      "text/plain": [
       "<AxesSubplot:xlabel='Delivery Zone charged by Courier Compay', ylabel='count'>"
      ]
     },
     "execution_count": 89,
     "metadata": {},
     "output_type": "execute_result"
    },
    {
     "data": {
      "image/png": "[encoded data removed]",
      "text/plain": [
       "<Figure size 432x288 with 1 Axes>"
      ]
     },
     "metadata": {
      "needs_background": "light"
     },
     "output_type": "display_data"
    }
   ],
   "source": [
    "import seaborn as sns\n",
    "sns.countplot(x=\"Delivery Zone charged by Courier Compay\" , data=df)"
   ]
  },
  {
   "cell_type": "code",
   "execution_count": 74,
   "metadata": {},
   "outputs": [
    {
     "data": {
      "text/plain": [
       "<AxesSubplot:xlabel='Delivery Zone as per X', ylabel='count'>"
      ]
     },
     "execution_count": 74,
     "metadata": {},
     "output_type": "execute_result"
    },
    {
     "data": {
      "image/png": "[encoded data removed]",
      "text/plain": [
       "<Figure size 432x288 with 1 Axes>"
      ]
     },
     "metadata": {
      "needs_background": "light"
     },
     "output_type": "display_data"
    }
   ],
   "source": [
    "sns.countplot(x=\"Delivery Zone as per X\" , data=df)"
   ]
  },
  {
   "cell_type": "code",
   "execution_count": 90,
   "metadata": {},
   "outputs": [
    {
     "name": "stdout",
     "output_type": "stream",
     "text": [
      "Count for Weight slab charged by Courier Company (KG) is greater than Expected Charge as per X (Rs.): 23\n"
     ]
    }
   ],
   "source": [
    "count = 0\n",
    "for i in range(len(df)):\n",
    "    if df[\"Charges Billed by Courier Company (Rs.)\"][i] < df[\"Expected Charge as per X (Rs.)\"][i]:\n",
    "        count = count_for_undercharged + 1\n",
    "        \n",
    "print(\"Count for Weight slab charged by Courier Company (KG) is greater than Expected Charge as per X (Rs.):\", count)"
   ]
  },
  {
   "cell_type": "code",
   "execution_count": null,
   "metadata": {},
   "outputs": [],
   "source": []
  }
 ],
 "metadata": {
  "kernelspec": {
   "display_name": "Python 3",
   "language": "python",
   "name": "python3"
  },
  "language_info": {
   "codemirror_mode": {
    "name": "ipython",
    "version": 3
   },
   "file_extension": ".py",
   "mimetype": "text/x-python",
   "name": "python",
   "nbconvert_exporter": "python",
   "pygments_lexer": "ipython3",
   "version": "3.8.5"
  }
 },
 "nbformat": 4,
 "nbformat_minor": 4
}
